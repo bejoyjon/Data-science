{
  "nbformat": 4,
  "nbformat_minor": 0,
  "metadata": {
    "colab": {
      "provenance": [],
      "toc_visible": true,
      "authorship_tag": "ABX9TyOnSUn2r1grROlweqxS4AUK",
      "include_colab_link": true
    },
    "kernelspec": {
      "name": "python3",
      "display_name": "Python 3"
    },
    "language_info": {
      "name": "python"
    }
  },
  "cells": [
    {
      "cell_type": "markdown",
      "metadata": {
        "id": "view-in-github",
        "colab_type": "text"
      },
      "source": [
        "<a href=\"https://colab.research.google.com/github/bejoyjon/Data-science/blob/master/Webscraper.ipynb\" target=\"_parent\"><img src=\"https://colab.research.google.com/assets/colab-badge.svg\" alt=\"Open In Colab\"/></a>"
      ]
    },
    {
      "cell_type": "markdown",
      "source": [
        "### Using Selenium"
      ],
      "metadata": {
        "id": "1ktyLXpjeJ1z"
      }
    },
    {
      "cell_type": "code",
      "execution_count": null,
      "metadata": {
        "id": "xfFzZcHq0Iny"
      },
      "outputs": [],
      "source": [
        "try:\n",
        " from selenium import webdriver\n",
        " from selenium.webdriver.chrome.options import Options\n",
        "except:\n",
        " !pip install selenium\n",
        " print('Installed selenium...')\n",
        " from selenium import webdriver\n",
        " from selenium.webdriver.chrome.options import Options"
      ]
    },
    {
      "cell_type": "code",
      "source": [
        "def web_driver():\n",
        "    options = Options()\n",
        "    options.add_argument('--headless')\n",
        "    options.add_argument('--no-sandbox')\n",
        "    options.add_argument('--disable-dev-shm-usage')\n",
        "    options.add_argument('--lang=en')\n",
        "    driver = webdriver.Chrome(options=options)\n",
        "    return driver"
      ],
      "metadata": {
        "id": "8UzqpdG80j3p"
      },
      "execution_count": null,
      "outputs": []
    },
    {
      "cell_type": "code",
      "source": [
        "driver = web_driver()\n",
        "driver.get(\"https://www.google.com\")\n",
        "print(driver.page_source)\n",
        "driver.quit()"
      ],
      "metadata": {
        "id": "bVt7z8cb0oEL"
      },
      "execution_count": null,
      "outputs": []
    },
    {
      "cell_type": "markdown",
      "source": [
        "### Using Playwright"
      ],
      "metadata": {
        "id": "9a9HQrH_efXw"
      }
    },
    {
      "cell_type": "code",
      "source": [
        "try:\n",
        "  import re\n",
        "  from playwright.sync_api import Page, expect\n",
        "except:\n",
        "  !pip install pytest-playwright\n",
        "  !playwright install"
      ],
      "metadata": {
        "id": "rHzj7pKme2Ep"
      },
      "execution_count": null,
      "outputs": []
    },
    {
      "cell_type": "code",
      "source": [
        "def test_has_title(page: Page):\n",
        "    page.goto(\"https://playwright.dev/\")\n",
        "\n",
        "    # Expect a title \"to contain\" a substring.\n",
        "    expect(page).to_have_title(re.compile(\"Playwright\"))\n",
        "\n",
        "def test_get_started_link(page: Page):\n",
        "    page.goto(\"https://playwright.dev/\")\n",
        "\n",
        "    # Click the get started link.\n",
        "    page.get_by_role(\"link\", name=\"Get started\").click()\n",
        "\n",
        "    # Expects page to have a heading with the name of Installation.\n",
        "    expect(page.get_by_role(\"heading\", name=\"Installation\")).to_be_visible()"
      ],
      "metadata": {
        "id": "NzFk_9iqfHdo"
      },
      "execution_count": null,
      "outputs": []
    },
    {
      "cell_type": "code",
      "source": [
        "import asyncio\n",
        "from playwright.async_api import async_playwright\n",
        "\n",
        "async def main():\n",
        "    async with async_playwright() as p:\n",
        "        browser = await p.chromium.launch(headless=True)\n",
        "        page = await browser.new_page()\n",
        "        await page.goto(\"https://www.nobroker.in/\")\n",
        "        print(await page.title())\n",
        "        await browser.close()\n",
        "\n",
        "await main()"
      ],
      "metadata": {
        "id": "GwV2MVo8fdBP"
      },
      "execution_count": null,
      "outputs": []
    },
    {
      "cell_type": "code",
      "metadata": {
        "id": "de46a5e3"
      },
      "source": [
        "!apt-get install -y xvfb x11-utils"
      ],
      "execution_count": null,
      "outputs": []
    },
    {
      "cell_type": "markdown",
      "source": [],
      "metadata": {
        "id": "arpyDABol_i4"
      }
    },
    {
      "cell_type": "code",
      "source": [
        "%%shell\n",
        "xvfb-run python - <<EOF"
      ],
      "metadata": {
        "id": "dpH0xDUEpSai",
        "outputId": "7106391f-cca9-4eb1-f8de-3ea2dab3f674",
        "colab": {
          "base_uri": "https://localhost:8080/"
        }
      },
      "execution_count": 1,
      "outputs": [
        {
          "output_type": "stream",
          "name": "stdout",
          "text": [
            "/bin/bash: line 1: warning: here-document at line 1 delimited by end-of-file (wanted `EOF')\n"
          ]
        },
        {
          "output_type": "execute_result",
          "data": {
            "text/plain": []
          },
          "metadata": {},
          "execution_count": 1
        }
      ]
    },
    {
      "cell_type": "code",
      "metadata": {
        "id": "63908831"
      },
      "source": [
        "import asyncio\n",
        "try:\n",
        "  from playwright.async_api import async_playwright\n",
        "except ModuleNotFoundError as e:\n",
        "  ! pip install playwright\n",
        "  ! playwright install\n",
        "  from playwright.async_api import async_playwright\n",
        "\n",
        "async def main():\n",
        "    async with async_playwright() as p:\n",
        "        browser = await p.chromium.launch(headless=False)\n",
        "        page = await browser.new_page()\n",
        "        await page.goto(\"https://www.nobroker.in/\")\n",
        "        print(await page.title())\n",
        "\n",
        "        # Wait for the search bar to be visible\n",
        "        await page.wait_for_selector('input[placeholder=\"Search up to 3 localities..\"]', timeout=60000)\n",
        "\n",
        "        # Fill the search bar\n",
        "        await page.get_by_placeholder(\"Search upto 3 localities or landmarks\").fill(\"Bangalore\")\n",
        "\n",
        "        # Wait for a moment to see the result\n",
        "        await page.wait_for_timeout(2000)\n",
        "\n",
        "        await page.screenshot(path=\"nobroker_search.png\")\n",
        "        await browser.close()\n",
        "\n",
        "asyncio.run(main())\n",
        "EOF"
      ],
      "execution_count": 4,
      "outputs": []
    },
    {
      "cell_type": "code",
      "source": [],
      "metadata": {
        "id": "JW2VLCEzqQzH"
      },
      "execution_count": null,
      "outputs": []
    }
  ]
}