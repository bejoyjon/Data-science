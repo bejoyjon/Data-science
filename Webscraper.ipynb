{
  "nbformat": 4,
  "nbformat_minor": 0,
  "metadata": {
    "colab": {
      "provenance": [],
      "toc_visible": true,
      "authorship_tag": "ABX9TyMnjur/4LrZp2iIjm7leAwT",
      "include_colab_link": true
    },
    "kernelspec": {
      "name": "python3",
      "display_name": "Python 3"
    },
    "language_info": {
      "name": "python"
    }
  },
  "cells": [
    {
      "cell_type": "markdown",
      "metadata": {
        "id": "view-in-github",
        "colab_type": "text"
      },
      "source": [
        "<a href=\"https://colab.research.google.com/github/bejoyjon/Data-science/blob/master/Webscraper.ipynb\" target=\"_parent\"><img src=\"https://colab.research.google.com/assets/colab-badge.svg\" alt=\"Open In Colab\"/></a>"
      ]
    },
    {
      "cell_type": "markdown",
      "source": [
        "### Using Selenium"
      ],
      "metadata": {
        "id": "1ktyLXpjeJ1z"
      }
    },
    {
      "cell_type": "code",
      "execution_count": null,
      "metadata": {
        "id": "xfFzZcHq0Iny"
      },
      "outputs": [],
      "source": [
        "try:\n",
        " from selenium import webdriver\n",
        " from selenium.webdriver.chrome.options import Options\n",
        "except:\n",
        " !pip install selenium\n",
        " print('Installed selenium...')\n",
        " from selenium import webdriver\n",
        " from selenium.webdriver.chrome.options import Options"
      ]
    },
    {
      "cell_type": "code",
      "source": [
        "def web_driver():\n",
        "    options = Options()\n",
        "    options.add_argument('--headless')\n",
        "    options.add_argument('--no-sandbox')\n",
        "    options.add_argument('--disable-dev-shm-usage')\n",
        "    options.add_argument('--lang=en')\n",
        "    driver = webdriver.Chrome(options=options)\n",
        "    return driver"
      ],
      "metadata": {
        "id": "8UzqpdG80j3p"
      },
      "execution_count": null,
      "outputs": []
    },
    {
      "cell_type": "code",
      "source": [
        "driver = web_driver()\n",
        "driver.get(\"https://www.google.com\")\n",
        "print(driver.page_source)\n",
        "driver.quit()"
      ],
      "metadata": {
        "id": "bVt7z8cb0oEL"
      },
      "execution_count": null,
      "outputs": []
    },
    {
      "cell_type": "markdown",
      "source": [
        "### Using Playwright"
      ],
      "metadata": {
        "id": "9a9HQrH_efXw"
      }
    },
    {
      "cell_type": "code",
      "source": [
        "try:\n",
        "  import re\n",
        "  from playwright.sync_api import Page, expect\n",
        "except:\n",
        "  !pip install pytest-playwright\n",
        "  !playwright install"
      ],
      "metadata": {
        "id": "rHzj7pKme2Ep"
      },
      "execution_count": 3,
      "outputs": []
    },
    {
      "cell_type": "code",
      "source": [
        "def test_has_title(page: Page):\n",
        "    page.goto(\"https://playwright.dev/\")\n",
        "\n",
        "    # Expect a title \"to contain\" a substring.\n",
        "    expect(page).to_have_title(re.compile(\"Playwright\"))\n",
        "\n",
        "def test_get_started_link(page: Page):\n",
        "    page.goto(\"https://playwright.dev/\")\n",
        "\n",
        "    # Click the get started link.\n",
        "    page.get_by_role(\"link\", name=\"Get started\").click()\n",
        "\n",
        "    # Expects page to have a heading with the name of Installation.\n",
        "    expect(page.get_by_role(\"heading\", name=\"Installation\")).to_be_visible()"
      ],
      "metadata": {
        "id": "NzFk_9iqfHdo"
      },
      "execution_count": 4,
      "outputs": []
    },
    {
      "cell_type": "code",
      "source": [
        "import asyncio\n",
        "from playwright.async_api import async_playwright\n",
        "\n",
        "async def main():\n",
        "    async with async_playwright() as p:\n",
        "        browser = await p.chromium.launch(headless=True)\n",
        "        page = await browser.new_page()\n",
        "        await page.goto(\"https://www.nobroker.in/\")\n",
        "        print(await page.title())\n",
        "        await browser.close()\n",
        "\n",
        "await main()"
      ],
      "metadata": {
        "id": "GwV2MVo8fdBP"
      },
      "execution_count": null,
      "outputs": []
    },
    {
      "cell_type": "code",
      "metadata": {
        "id": "de46a5e3"
      },
      "source": [
        "!apt-get install -y xvfb x11-utils"
      ],
      "execution_count": null,
      "outputs": []
    },
    {
      "cell_type": "markdown",
      "source": [],
      "metadata": {
        "id": "arpyDABol_i4"
      }
    },
    {
      "cell_type": "code",
      "metadata": {
        "colab": {
          "base_uri": "https://localhost:8080/",
          "height": 1000
        },
        "id": "63908831",
        "outputId": "f2def088-8a7c-4bf6-dd1d-3b317f7cbac2"
      },
      "source": [
        "%%shell\n",
        "xvfb-run python - <<EOF\n",
        "import asyncio\n",
        "from playwright.async_api import async_playwright\n",
        "\n",
        "async def main():\n",
        "    async with async_playwright() as p:\n",
        "        browser = await p.chromium.launch(headless=False)\n",
        "        page = await browser.new_page()\n",
        "        await page.goto(\"https://www.nobroker.in/\")\n",
        "        print(await page.title())\n",
        "\n",
        "        # Wait for the search bar to be visible\n",
        "        await page.wait_for_selector('input[placeholder=\"Search up to 3 localities..\"]', timeout=60000)\n",
        "\n",
        "        # Fill the search bar\n",
        "        await page.get_by_placeholder(\"Search upto 3 localities or landmarks\").fill(\"Bangalore\")\n",
        "\n",
        "        # Wait for a moment to see the result\n",
        "        await page.wait_for_timeout(2000)\n",
        "\n",
        "        await page.screenshot(path=\"nobroker_search.png\")\n",
        "        await browser.close()\n",
        "\n",
        "asyncio.run(main())\n",
        "EOF"
      ],
      "execution_count": 15,
      "outputs": [
        {
          "output_type": "stream",
          "name": "stdout",
          "text": [
            "Flats, Houses, Apartments for Rent, Buy, Sale Without Brokerage in India\n",
            "Traceback (most recent call last):\n",
            "  File \"<stdin>\", line 23, in <module>\n",
            "  File \"/usr/lib/python3.11/asyncio/runners.py\", line 190, in run\n",
            "    return runner.run(main)\n",
            "           ^^^^^^^^^^^^^^^^\n",
            "  File \"/usr/lib/python3.11/asyncio/runners.py\", line 118, in run\n",
            "    return self._loop.run_until_complete(task)\n",
            "           ^^^^^^^^^^^^^^^^^^^^^^^^^^^^^^^^^^^\n",
            "  File \"/usr/lib/python3.11/asyncio/base_events.py\", line 654, in run_until_complete\n",
            "    return future.result()\n",
            "           ^^^^^^^^^^^^^^^\n",
            "  File \"<stdin>\", line 12, in main\n",
            "  File \"/usr/local/lib/python3.11/dist-packages/playwright/async_api/_generated.py\", line 8181, in wait_for_selector\n",
            "    await self._impl_obj.wait_for_selector(\n",
            "  File \"/usr/local/lib/python3.11/dist-packages/playwright/_impl/_page.py\", line 423, in wait_for_selector\n",
            "    return await self._main_frame.wait_for_selector(**locals_to_params(locals()))\n",
            "           ^^^^^^^^^^^^^^^^^^^^^^^^^^^^^^^^^^^^^^^^^^^^^^^^^^^^^^^^^^^^^^^^^^^^^^\n",
            "  File \"/usr/local/lib/python3.11/dist-packages/playwright/_impl/_frame.py\", line 369, in wait_for_selector\n",
            "    await self._channel.send(\n",
            "  File \"/usr/local/lib/python3.11/dist-packages/playwright/_impl/_connection.py\", line 69, in send\n",
            "    return await self._connection.wrap_api_call(\n",
            "           ^^^^^^^^^^^^^^^^^^^^^^^^^^^^^^^^^^^^^\n",
            "  File \"/usr/local/lib/python3.11/dist-packages/playwright/_impl/_connection.py\", line 558, in wrap_api_call\n",
            "    raise rewrite_error(error, f\"{parsed_st['apiName']}: {error}\") from None\n",
            "playwright._impl._errors.TimeoutError: Page.wait_for_selector: Timeout 60000ms exceeded.\n",
            "Call log:\n",
            "  - waiting for locator(\"input[placeholder=\\\"Search up to 3 localities..\\\"]\") to be visible\n",
            "\n"
          ]
        },
        {
          "output_type": "error",
          "ename": "CalledProcessError",
          "evalue": "Command 'xvfb-run python - <<EOF\nimport asyncio\nfrom playwright.async_api import async_playwright\n\nasync def main():\n    async with async_playwright() as p:\n        browser = await p.chromium.launch(headless=False)\n        page = await browser.new_page()\n        await page.goto(\"https://www.nobroker.in/\")\n        print(await page.title())\n        \n        # Wait for the search bar to be visible\n        await page.wait_for_selector('input[placeholder=\"Search up to 3 localities..\"]', timeout=60000)\n        \n        # Fill the search bar\n        await page.get_by_placeholder(\"Search upto 3 localities or landmarks\").fill(\"Bangalore\")\n        \n        # Wait for a moment to see the result\n        await page.wait_for_timeout(2000)\n        \n        await page.screenshot(path=\"nobroker_search.png\")\n        await browser.close()\n\nasyncio.run(main())\nEOF\n' returned non-zero exit status 1.",
          "traceback": [
            "\u001b[0;31m---------------------------------------------------------------------------\u001b[0m",
            "\u001b[0;31mCalledProcessError\u001b[0m                        Traceback (most recent call last)",
            "\u001b[0;32m/tmp/ipython-input-15-1219719895.py\u001b[0m in \u001b[0;36m<cell line: 0>\u001b[0;34m()\u001b[0m\n\u001b[0;32m----> 1\u001b[0;31m \u001b[0mget_ipython\u001b[0m\u001b[0;34m(\u001b[0m\u001b[0;34m)\u001b[0m\u001b[0;34m.\u001b[0m\u001b[0mrun_cell_magic\u001b[0m\u001b[0;34m(\u001b[0m\u001b[0;34m'shell'\u001b[0m\u001b[0;34m,\u001b[0m \u001b[0;34m''\u001b[0m\u001b[0;34m,\u001b[0m \u001b[0;34m'xvfb-run python - <<EOF\\nimport asyncio\\nfrom playwright.async_api import async_playwright\\n\\nasync def main():\\n    async with async_playwright() as p:\\n        browser = await p.chromium.launch(headless=False)\\n        page = await browser.new_page()\\n        await page.goto(\"https://www.nobroker.in/\")\\n        print(await page.title())\\n        \\n        # Wait for the search bar to be visible\\n        await page.wait_for_selector(\\'input[placeholder=\"Search up to 3 localities..\"]\\', timeout=60000)\\n        \\n        # Fill the search bar\\n        await page.get_by_placeholder(\"Search upto 3 localities or landmarks\").fill(\"Bangalore\")\\n        \\n        # Wait for a moment to see the result\\n        await page.wait_for_timeout(2000)\\n        \\n        await page.screenshot(path=\"nobroker_search.png\")\\n        await browser.close()\\n\\nasyncio.run(main())\\nEOF\\n'\u001b[0m\u001b[0;34m)\u001b[0m\u001b[0;34m\u001b[0m\u001b[0;34m\u001b[0m\u001b[0m\n\u001b[0m",
            "\u001b[0;32m/usr/local/lib/python3.11/dist-packages/google/colab/_shell.py\u001b[0m in \u001b[0;36mrun_cell_magic\u001b[0;34m(self, magic_name, line, cell)\u001b[0m\n\u001b[1;32m    274\u001b[0m     \u001b[0;32mif\u001b[0m \u001b[0mline\u001b[0m \u001b[0;32mand\u001b[0m \u001b[0;32mnot\u001b[0m \u001b[0mcell\u001b[0m\u001b[0;34m:\u001b[0m\u001b[0;34m\u001b[0m\u001b[0;34m\u001b[0m\u001b[0m\n\u001b[1;32m    275\u001b[0m       \u001b[0mcell\u001b[0m \u001b[0;34m=\u001b[0m \u001b[0;34m' '\u001b[0m\u001b[0;34m\u001b[0m\u001b[0;34m\u001b[0m\u001b[0m\n\u001b[0;32m--> 276\u001b[0;31m     \u001b[0;32mreturn\u001b[0m \u001b[0msuper\u001b[0m\u001b[0;34m(\u001b[0m\u001b[0;34m)\u001b[0m\u001b[0;34m.\u001b[0m\u001b[0mrun_cell_magic\u001b[0m\u001b[0;34m(\u001b[0m\u001b[0mmagic_name\u001b[0m\u001b[0;34m,\u001b[0m \u001b[0mline\u001b[0m\u001b[0;34m,\u001b[0m \u001b[0mcell\u001b[0m\u001b[0;34m)\u001b[0m\u001b[0;34m\u001b[0m\u001b[0;34m\u001b[0m\u001b[0m\n\u001b[0m\u001b[1;32m    277\u001b[0m \u001b[0;34m\u001b[0m\u001b[0m\n\u001b[1;32m    278\u001b[0m \u001b[0;34m\u001b[0m\u001b[0m\n",
            "\u001b[0;32m/usr/local/lib/python3.11/dist-packages/IPython/core/interactiveshell.py\u001b[0m in \u001b[0;36mrun_cell_magic\u001b[0;34m(self, magic_name, line, cell)\u001b[0m\n\u001b[1;32m   2471\u001b[0m             \u001b[0;32mwith\u001b[0m \u001b[0mself\u001b[0m\u001b[0;34m.\u001b[0m\u001b[0mbuiltin_trap\u001b[0m\u001b[0;34m:\u001b[0m\u001b[0;34m\u001b[0m\u001b[0;34m\u001b[0m\u001b[0m\n\u001b[1;32m   2472\u001b[0m                 \u001b[0margs\u001b[0m \u001b[0;34m=\u001b[0m \u001b[0;34m(\u001b[0m\u001b[0mmagic_arg_s\u001b[0m\u001b[0;34m,\u001b[0m \u001b[0mcell\u001b[0m\u001b[0;34m)\u001b[0m\u001b[0;34m\u001b[0m\u001b[0;34m\u001b[0m\u001b[0m\n\u001b[0;32m-> 2473\u001b[0;31m                 \u001b[0mresult\u001b[0m \u001b[0;34m=\u001b[0m \u001b[0mfn\u001b[0m\u001b[0;34m(\u001b[0m\u001b[0;34m*\u001b[0m\u001b[0margs\u001b[0m\u001b[0;34m,\u001b[0m \u001b[0;34m**\u001b[0m\u001b[0mkwargs\u001b[0m\u001b[0;34m)\u001b[0m\u001b[0;34m\u001b[0m\u001b[0;34m\u001b[0m\u001b[0m\n\u001b[0m\u001b[1;32m   2474\u001b[0m             \u001b[0;32mreturn\u001b[0m \u001b[0mresult\u001b[0m\u001b[0;34m\u001b[0m\u001b[0;34m\u001b[0m\u001b[0m\n\u001b[1;32m   2475\u001b[0m \u001b[0;34m\u001b[0m\u001b[0m\n",
            "\u001b[0;32m/usr/local/lib/python3.11/dist-packages/google/colab/_system_commands.py\u001b[0m in \u001b[0;36m_shell_cell_magic\u001b[0;34m(args, cmd)\u001b[0m\n\u001b[1;32m    110\u001b[0m   \u001b[0mresult\u001b[0m \u001b[0;34m=\u001b[0m \u001b[0m_run_command\u001b[0m\u001b[0;34m(\u001b[0m\u001b[0mcmd\u001b[0m\u001b[0;34m,\u001b[0m \u001b[0mclear_streamed_output\u001b[0m\u001b[0;34m=\u001b[0m\u001b[0;32mFalse\u001b[0m\u001b[0;34m)\u001b[0m\u001b[0;34m\u001b[0m\u001b[0;34m\u001b[0m\u001b[0m\n\u001b[1;32m    111\u001b[0m   \u001b[0;32mif\u001b[0m \u001b[0;32mnot\u001b[0m \u001b[0mparsed_args\u001b[0m\u001b[0;34m.\u001b[0m\u001b[0mignore_errors\u001b[0m\u001b[0;34m:\u001b[0m\u001b[0;34m\u001b[0m\u001b[0;34m\u001b[0m\u001b[0m\n\u001b[0;32m--> 112\u001b[0;31m     \u001b[0mresult\u001b[0m\u001b[0;34m.\u001b[0m\u001b[0mcheck_returncode\u001b[0m\u001b[0;34m(\u001b[0m\u001b[0;34m)\u001b[0m\u001b[0;34m\u001b[0m\u001b[0;34m\u001b[0m\u001b[0m\n\u001b[0m\u001b[1;32m    113\u001b[0m   \u001b[0;32mreturn\u001b[0m \u001b[0mresult\u001b[0m\u001b[0;34m\u001b[0m\u001b[0;34m\u001b[0m\u001b[0m\n\u001b[1;32m    114\u001b[0m \u001b[0;34m\u001b[0m\u001b[0m\n",
            "\u001b[0;32m/usr/local/lib/python3.11/dist-packages/google/colab/_system_commands.py\u001b[0m in \u001b[0;36mcheck_returncode\u001b[0;34m(self)\u001b[0m\n\u001b[1;32m    135\u001b[0m   \u001b[0;32mdef\u001b[0m \u001b[0mcheck_returncode\u001b[0m\u001b[0;34m(\u001b[0m\u001b[0mself\u001b[0m\u001b[0;34m)\u001b[0m\u001b[0;34m:\u001b[0m\u001b[0;34m\u001b[0m\u001b[0;34m\u001b[0m\u001b[0m\n\u001b[1;32m    136\u001b[0m     \u001b[0;32mif\u001b[0m \u001b[0mself\u001b[0m\u001b[0;34m.\u001b[0m\u001b[0mreturncode\u001b[0m\u001b[0;34m:\u001b[0m\u001b[0;34m\u001b[0m\u001b[0;34m\u001b[0m\u001b[0m\n\u001b[0;32m--> 137\u001b[0;31m       raise subprocess.CalledProcessError(\n\u001b[0m\u001b[1;32m    138\u001b[0m           \u001b[0mreturncode\u001b[0m\u001b[0;34m=\u001b[0m\u001b[0mself\u001b[0m\u001b[0;34m.\u001b[0m\u001b[0mreturncode\u001b[0m\u001b[0;34m,\u001b[0m \u001b[0mcmd\u001b[0m\u001b[0;34m=\u001b[0m\u001b[0mself\u001b[0m\u001b[0;34m.\u001b[0m\u001b[0margs\u001b[0m\u001b[0;34m,\u001b[0m \u001b[0moutput\u001b[0m\u001b[0;34m=\u001b[0m\u001b[0mself\u001b[0m\u001b[0;34m.\u001b[0m\u001b[0moutput\u001b[0m\u001b[0;34m\u001b[0m\u001b[0;34m\u001b[0m\u001b[0m\n\u001b[1;32m    139\u001b[0m       )\n",
            "\u001b[0;31mCalledProcessError\u001b[0m: Command 'xvfb-run python - <<EOF\nimport asyncio\nfrom playwright.async_api import async_playwright\n\nasync def main():\n    async with async_playwright() as p:\n        browser = await p.chromium.launch(headless=False)\n        page = await browser.new_page()\n        await page.goto(\"https://www.nobroker.in/\")\n        print(await page.title())\n        \n        # Wait for the search bar to be visible\n        await page.wait_for_selector('input[placeholder=\"Search up to 3 localities..\"]', timeout=60000)\n        \n        # Fill the search bar\n        await page.get_by_placeholder(\"Search upto 3 localities or landmarks\").fill(\"Bangalore\")\n        \n        # Wait for a moment to see the result\n        await page.wait_for_timeout(2000)\n        \n        await page.screenshot(path=\"nobroker_search.png\")\n        await browser.close()\n\nasyncio.run(main())\nEOF\n' returned non-zero exit status 1."
          ]
        }
      ]
    }
  ]
}