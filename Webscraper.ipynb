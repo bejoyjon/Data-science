{
  "nbformat": 4,
  "nbformat_minor": 0,
  "metadata": {
    "colab": {
      "provenance": [],
      "authorship_tag": "ABX9TyMQa15GBHiSflIXOn/SJDoZ",
      "include_colab_link": true
    },
    "kernelspec": {
      "name": "python3",
      "display_name": "Python 3"
    },
    "language_info": {
      "name": "python"
    }
  },
  "cells": [
    {
      "cell_type": "markdown",
      "metadata": {
        "id": "view-in-github",
        "colab_type": "text"
      },
      "source": [
        "<a href=\"https://colab.research.google.com/github/bejoyjon/Data-science/blob/master/Webscraper.ipynb\" target=\"_parent\"><img src=\"https://colab.research.google.com/assets/colab-badge.svg\" alt=\"Open In Colab\"/></a>"
      ]
    },
    {
      "cell_type": "code",
      "execution_count": null,
      "metadata": {
        "id": "xfFzZcHq0Iny"
      },
      "outputs": [],
      "source": [
        "try:\n",
        " from selenium import webdriver\n",
        " from selenium.webdriver.chrome.options import Options\n",
        "except:\n",
        " !pip install selenium\n",
        " print('Installed selenium...')\n",
        " from selenium import webdriver\n",
        " from selenium.webdriver.chrome.options import Options"
      ]
    },
    {
      "cell_type": "code",
      "source": [
        "def web_driver():\n",
        "    options = Options()\n",
        "    options.add_argument('--headless')\n",
        "    options.add_argument('--no-sandbox')\n",
        "    options.add_argument('--disable-dev-shm-usage')\n",
        "    options.add_argument('--lang=en')\n",
        "    driver = webdriver.Chrome(options=options)\n",
        "    return driver"
      ],
      "metadata": {
        "id": "8UzqpdG80j3p"
      },
      "execution_count": 3,
      "outputs": []
    },
    {
      "cell_type": "code",
      "source": [
        "driver = web_driver()\n",
        "driver.get(\"https://www.google.com\")\n",
        "print(driver.page_source)\n",
        "driver.quit()"
      ],
      "metadata": {
        "id": "bVt7z8cb0oEL"
      },
      "execution_count": null,
      "outputs": []
    }
  ]
}