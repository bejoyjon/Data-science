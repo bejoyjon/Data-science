{
  "cells": [
    {
      "cell_type": "code",
      "execution_count": 16,
      "id": "bdbb4c8b",
      "metadata": {
        "id": "bdbb4c8b"
      },
      "outputs": [],
      "source": [
        "import pandas as pd\n",
        "import numpy as np\n"
      ]
    },
    {
      "cell_type": "code",
      "source": [
        "import ccxt"
      ],
      "metadata": {
        "id": "tWPv_hCRxs2B"
      },
      "id": "tWPv_hCRxs2B",
      "execution_count": null,
      "outputs": []
    },
    {
      "cell_type": "markdown",
      "source": [
        "Harisree ganapathaye namaha!!"
      ],
      "metadata": {
        "id": "lEN1a1Fqx44p"
      },
      "id": "lEN1a1Fqx44p"
    },
    {
      "cell_type": "code",
      "source": [
        "ulist = ['Suraaj','Joju','Basil','Fahad']\n",
        "actor_names = ulist"
      ],
      "metadata": {
        "id": "9N8PxF1gx64d"
      },
      "id": "9N8PxF1gx64d",
      "execution_count": 3,
      "outputs": []
    },
    {
      "cell_type": "code",
      "source": [
        "actor_ages = [45,45,30,45]"
      ],
      "metadata": {
        "id": "F421BmApE96F"
      },
      "id": "F421BmApE96F",
      "execution_count": 4,
      "outputs": []
    },
    {
      "cell_type": "code",
      "source": [
        "actors = pd.Series(data=actor_ages, index=actor_names)\n",
        "actors"
      ],
      "metadata": {
        "id": "5rPQREOAFKHn",
        "outputId": "4f41d1d7-c877-4eb1-a56d-e6fdf45ddfd0",
        "colab": {
          "base_uri": "https://localhost:8080/"
        }
      },
      "id": "5rPQREOAFKHn",
      "execution_count": 14,
      "outputs": [
        {
          "output_type": "stream",
          "name": "stdout",
          "text": [
            "Suraaj    45\n",
            "Joju      45\n",
            "Basil     30\n",
            "Fahad     45\n",
            "dtype: int64\n"
          ]
        }
      ]
    },
    {
      "cell_type": "code",
      "source": [
        "udict={}\n",
        "for i in range(len(actor_names)):\n",
        "  udict[actor_names[i]] = actor_ages[i]\n",
        "\n",
        "udict"
      ],
      "metadata": {
        "id": "SowVrQCJFmNr",
        "outputId": "8fb8514f-842a-4e23-e753-08d9d543ed7d",
        "colab": {
          "base_uri": "https://localhost:8080/"
        }
      },
      "id": "SowVrQCJFmNr",
      "execution_count": 12,
      "outputs": [
        {
          "output_type": "execute_result",
          "data": {
            "text/plain": [
              "{'Suraaj': 45, 'Joju': 45, 'Basil': 30, 'Fahad': 45}"
            ]
          },
          "metadata": {},
          "execution_count": 12
        }
      ]
    },
    {
      "cell_type": "code",
      "source": [
        "t = pd.Series([x*x for x in range(100)])\n",
        "t1 = t[-3:]\n",
        "t2 = t.tail(3)\n",
        "t1.equals(t2)"
      ],
      "metadata": {
        "id": "GDUQq1U3C1jh",
        "outputId": "bf90e5a4-b21e-42bf-dcc2-a8e906afd3e2",
        "colab": {
          "base_uri": "https://localhost:8080/"
        }
      },
      "id": "GDUQq1U3C1jh",
      "execution_count": 19,
      "outputs": [
        {
          "output_type": "execute_result",
          "data": {
            "text/plain": [
              "True"
            ]
          },
          "metadata": {},
          "execution_count": 19
        }
      ]
    }
  ],
  "metadata": {
    "kernelspec": {
      "display_name": "Python 3",
      "language": "python",
      "name": "python3"
    },
    "language_info": {
      "codemirror_mode": {
        "name": "ipython",
        "version": 3
      },
      "file_extension": ".py",
      "mimetype": "text/x-python",
      "name": "python",
      "nbconvert_exporter": "python",
      "pygments_lexer": "ipython3",
      "version": "3.8.8"
    },
    "colab": {
      "provenance": []
    }
  },
  "nbformat": 4,
  "nbformat_minor": 5
}