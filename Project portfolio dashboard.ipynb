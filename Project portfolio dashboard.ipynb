{
  "cells": [
    {
      "cell_type": "code",
      "execution_count": 5,
      "id": "bdbb4c8b",
      "metadata": {
        "id": "bdbb4c8b"
      },
      "outputs": [],
      "source": [
        "import pandas as pd\n",
        "import numpy as np\n"
      ]
    },
    {
      "cell_type": "code",
      "source": [
        "import ccxt"
      ],
      "metadata": {
        "id": "tWPv_hCRxs2B"
      },
      "id": "tWPv_hCRxs2B",
      "execution_count": 1,
      "outputs": []
    },
    {
      "cell_type": "markdown",
      "source": [
        "### Harisree to the rescue:) !!"
      ],
      "metadata": {
        "id": "lEN1a1Fqx44p"
      },
      "id": "lEN1a1Fqx44p"
    },
    {
      "cell_type": "code",
      "source": [],
      "metadata": {
        "id": "9N8PxF1gx64d"
      },
      "id": "9N8PxF1gx64d",
      "execution_count": null,
      "outputs": []
    }
  ],
  "metadata": {
    "kernelspec": {
      "display_name": "Python 3",
      "language": "python",
      "name": "python3"
    },
    "language_info": {
      "codemirror_mode": {
        "name": "ipython",
        "version": 3
      },
      "file_extension": ".py",
      "mimetype": "text/x-python",
      "name": "python",
      "nbconvert_exporter": "python",
      "pygments_lexer": "ipython3",
      "version": "3.8.8"
    },
    "colab": {
      "provenance": []
    }
  },
  "nbformat": 4,
  "nbformat_minor": 5
}
